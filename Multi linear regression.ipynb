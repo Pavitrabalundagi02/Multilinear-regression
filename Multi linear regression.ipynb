{
 "cells": [
  {
   "cell_type": "code",
   "execution_count": 1,
   "id": "59b7c3af",
   "metadata": {},
   "outputs": [],
   "source": [
    "import pandas as pd\n",
    "import numpy as np"
   ]
  },
  {
   "cell_type": "code",
   "execution_count": 3,
   "id": "b66cc582",
   "metadata": {},
   "outputs": [
    {
     "name": "stdout",
     "output_type": "stream",
     "text": [
      " Volume in drive C is Windows\n",
      " Volume Serial Number is FC91-C721\n",
      "\n",
      " Directory of C:\\Users\\HP\n",
      "\n",
      "28-06-2023  08:33 PM    <DIR>          .\n",
      "28-06-2023  12:38 PM    <DIR>          ..\n",
      "27-02-2022  03:27 PM    <DIR>          .android\n",
      "30-01-2023  10:17 PM    <DIR>          .conda\n",
      "01-06-2021  12:59 PM                25 .condarc\n",
      "01-06-2021  12:59 PM    <DIR>          .continuum\n",
      "28-06-2023  08:33 PM    <DIR>          .ipynb_checkpoints\n",
      "01-06-2021  01:01 PM    <DIR>          .ipython\n",
      "01-06-2021  01:26 PM    <DIR>          .jupyter\n",
      "28-06-2023  05:46 PM    <DIR>          .matplotlib\n",
      "19-03-2022  10:56 AM    <DIR>          .MemuHyperv\n",
      "20-06-2023  12:41 PM    <DIR>          .ms-ad\n",
      "18-03-2022  11:31 PM             6,879 -1.14-windows.xml\n",
      "11-03-2021  09:50 PM    <DIR>          3D Objects\n",
      "30-01-2023  11:52 PM    <DIR>          anaconda3\n",
      "28-06-2023  08:33 PM             3,529 Cars.csv\n",
      "28-06-2023  12:43 PM    <DIR>          Contacts\n",
      "28-06-2023  05:21 PM           150,034 Crop_recommendation.csv\n",
      "28-06-2023  12:43 PM    <DIR>          Desktop\n",
      "28-06-2023  12:43 PM    <DIR>          Documents\n",
      "28-06-2023  08:17 PM    <DIR>          Downloads\n",
      "28-06-2023  12:43 PM    <DIR>          Favorites\n",
      "28-06-2023  07:48 PM               751 Forecasting.ipynb\n",
      "28-06-2023  12:43 PM    <DIR>          Links\n",
      "28-06-2023  08:32 PM                72 Multi linear regression.ipynb\n",
      "28-06-2023  12:43 PM    <DIR>          Music\n",
      "03-06-2021  08:50 PM    <DIR>          my python stuff\n",
      "10-12-2022  05:22 PM    <DIR>          OneDrive\n",
      "28-06-2023  07:26 PM               589 Optimizing Agricultural production.ipynb\n",
      "28-06-2023  12:43 PM    <DIR>          Pictures\n",
      "03-06-2021  11:29 AM    <DIR>          PycharmProjects\n",
      "28-06-2023  12:43 PM    <DIR>          Saved Games\n",
      "28-06-2023  12:43 PM    <DIR>          Searches\n",
      "28-06-2023  05:11 PM    <DIR>          Untitled Folder\n",
      "30-01-2023  10:28 PM                72 Untitled.ipynb\n",
      "28-06-2023  12:43 PM    <DIR>          Videos\n",
      "               8 File(s)        161,951 bytes\n",
      "              28 Dir(s)  29,464,920,064 bytes free\n"
     ]
    }
   ],
   "source": [
    "ls"
   ]
  },
  {
   "cell_type": "code",
   "execution_count": 4,
   "id": "7727b1d2",
   "metadata": {},
   "outputs": [],
   "source": [
    "data = pd.read_csv(\"Cars.csv\")"
   ]
  },
  {
   "cell_type": "code",
   "execution_count": 5,
   "id": "cbd4e3b9",
   "metadata": {},
   "outputs": [
    {
     "data": {
      "text/html": [
       "<div>\n",
       "<style scoped>\n",
       "    .dataframe tbody tr th:only-of-type {\n",
       "        vertical-align: middle;\n",
       "    }\n",
       "\n",
       "    .dataframe tbody tr th {\n",
       "        vertical-align: top;\n",
       "    }\n",
       "\n",
       "    .dataframe thead th {\n",
       "        text-align: right;\n",
       "    }\n",
       "</style>\n",
       "<table border=\"1\" class=\"dataframe\">\n",
       "  <thead>\n",
       "    <tr style=\"text-align: right;\">\n",
       "      <th></th>\n",
       "      <th>HP</th>\n",
       "      <th>MPG</th>\n",
       "      <th>VOL</th>\n",
       "      <th>SP</th>\n",
       "      <th>WT</th>\n",
       "    </tr>\n",
       "  </thead>\n",
       "  <tbody>\n",
       "    <tr>\n",
       "      <th>0</th>\n",
       "      <td>49</td>\n",
       "      <td>53.700681</td>\n",
       "      <td>89</td>\n",
       "      <td>104.185353</td>\n",
       "      <td>28.762059</td>\n",
       "    </tr>\n",
       "    <tr>\n",
       "      <th>1</th>\n",
       "      <td>55</td>\n",
       "      <td>50.013401</td>\n",
       "      <td>92</td>\n",
       "      <td>105.461264</td>\n",
       "      <td>30.466833</td>\n",
       "    </tr>\n",
       "    <tr>\n",
       "      <th>2</th>\n",
       "      <td>55</td>\n",
       "      <td>50.013401</td>\n",
       "      <td>92</td>\n",
       "      <td>105.461264</td>\n",
       "      <td>30.193597</td>\n",
       "    </tr>\n",
       "    <tr>\n",
       "      <th>3</th>\n",
       "      <td>70</td>\n",
       "      <td>45.696322</td>\n",
       "      <td>92</td>\n",
       "      <td>113.461264</td>\n",
       "      <td>30.632114</td>\n",
       "    </tr>\n",
       "    <tr>\n",
       "      <th>4</th>\n",
       "      <td>53</td>\n",
       "      <td>50.504232</td>\n",
       "      <td>92</td>\n",
       "      <td>104.461264</td>\n",
       "      <td>29.889149</td>\n",
       "    </tr>\n",
       "  </tbody>\n",
       "</table>\n",
       "</div>"
      ],
      "text/plain": [
       "   HP        MPG  VOL          SP         WT\n",
       "0  49  53.700681   89  104.185353  28.762059\n",
       "1  55  50.013401   92  105.461264  30.466833\n",
       "2  55  50.013401   92  105.461264  30.193597\n",
       "3  70  45.696322   92  113.461264  30.632114\n",
       "4  53  50.504232   92  104.461264  29.889149"
      ]
     },
     "execution_count": 5,
     "metadata": {},
     "output_type": "execute_result"
    }
   ],
   "source": [
    "data.head(5)"
   ]
  },
  {
   "cell_type": "code",
   "execution_count": 7,
   "id": "a43573b4",
   "metadata": {},
   "outputs": [
    {
     "data": {
      "text/plain": [
       "HP     0\n",
       "MPG    0\n",
       "VOL    0\n",
       "SP     0\n",
       "WT     0\n",
       "dtype: int64"
      ]
     },
     "execution_count": 7,
     "metadata": {},
     "output_type": "execute_result"
    }
   ],
   "source": [
    "data.isnull().sum()"
   ]
  },
  {
   "cell_type": "code",
   "execution_count": 8,
   "id": "20da792e",
   "metadata": {},
   "outputs": [],
   "source": [
    "x = data.drop(columns = 'MPG')"
   ]
  },
  {
   "cell_type": "code",
   "execution_count": 13,
   "id": "1a2c484d",
   "metadata": {},
   "outputs": [
    {
     "data": {
      "text/html": [
       "<div>\n",
       "<style scoped>\n",
       "    .dataframe tbody tr th:only-of-type {\n",
       "        vertical-align: middle;\n",
       "    }\n",
       "\n",
       "    .dataframe tbody tr th {\n",
       "        vertical-align: top;\n",
       "    }\n",
       "\n",
       "    .dataframe thead th {\n",
       "        text-align: right;\n",
       "    }\n",
       "</style>\n",
       "<table border=\"1\" class=\"dataframe\">\n",
       "  <thead>\n",
       "    <tr style=\"text-align: right;\">\n",
       "      <th></th>\n",
       "      <th>HP</th>\n",
       "      <th>VOL</th>\n",
       "      <th>SP</th>\n",
       "      <th>WT</th>\n",
       "    </tr>\n",
       "  </thead>\n",
       "  <tbody>\n",
       "    <tr>\n",
       "      <th>0</th>\n",
       "      <td>49</td>\n",
       "      <td>89</td>\n",
       "      <td>104.185353</td>\n",
       "      <td>28.762059</td>\n",
       "    </tr>\n",
       "    <tr>\n",
       "      <th>1</th>\n",
       "      <td>55</td>\n",
       "      <td>92</td>\n",
       "      <td>105.461264</td>\n",
       "      <td>30.466833</td>\n",
       "    </tr>\n",
       "    <tr>\n",
       "      <th>2</th>\n",
       "      <td>55</td>\n",
       "      <td>92</td>\n",
       "      <td>105.461264</td>\n",
       "      <td>30.193597</td>\n",
       "    </tr>\n",
       "    <tr>\n",
       "      <th>3</th>\n",
       "      <td>70</td>\n",
       "      <td>92</td>\n",
       "      <td>113.461264</td>\n",
       "      <td>30.632114</td>\n",
       "    </tr>\n",
       "    <tr>\n",
       "      <th>4</th>\n",
       "      <td>53</td>\n",
       "      <td>92</td>\n",
       "      <td>104.461264</td>\n",
       "      <td>29.889149</td>\n",
       "    </tr>\n",
       "  </tbody>\n",
       "</table>\n",
       "</div>"
      ],
      "text/plain": [
       "   HP  VOL          SP         WT\n",
       "0  49   89  104.185353  28.762059\n",
       "1  55   92  105.461264  30.466833\n",
       "2  55   92  105.461264  30.193597\n",
       "3  70   92  113.461264  30.632114\n",
       "4  53   92  104.461264  29.889149"
      ]
     },
     "execution_count": 13,
     "metadata": {},
     "output_type": "execute_result"
    }
   ],
   "source": [
    "x.head(5)"
   ]
  },
  {
   "cell_type": "code",
   "execution_count": 10,
   "id": "ffe4c270",
   "metadata": {},
   "outputs": [],
   "source": [
    "y = data[\"MPG\"]"
   ]
  },
  {
   "cell_type": "code",
   "execution_count": 12,
   "id": "5079531f",
   "metadata": {},
   "outputs": [
    {
     "data": {
      "text/plain": [
       "0    53.700681\n",
       "1    50.013401\n",
       "2    50.013401\n",
       "3    45.696322\n",
       "4    50.504232\n",
       "Name: MPG, dtype: float64"
      ]
     },
     "execution_count": 12,
     "metadata": {},
     "output_type": "execute_result"
    }
   ],
   "source": [
    "y.head(5)"
   ]
  },
  {
   "cell_type": "code",
   "execution_count": 14,
   "id": "bb2a85f1",
   "metadata": {},
   "outputs": [],
   "source": [
    "from sklearn.model_selection import train_test_split"
   ]
  },
  {
   "cell_type": "code",
   "execution_count": 46,
   "id": "0360dd3f",
   "metadata": {},
   "outputs": [],
   "source": [
    "x_train,x_test,y_train,y_test = train_test_split(x,y,test_size = 0.35, random_state = 0)"
   ]
  },
  {
   "cell_type": "code",
   "execution_count": 47,
   "id": "e3f09213",
   "metadata": {},
   "outputs": [],
   "source": [
    "from sklearn.linear_model import LinearRegression\n",
    "lr = LinearRegression()"
   ]
  },
  {
   "cell_type": "code",
   "execution_count": 48,
   "id": "fd0461ce",
   "metadata": {},
   "outputs": [
    {
     "data": {
      "text/plain": [
       "LinearRegression()"
      ]
     },
     "execution_count": 48,
     "metadata": {},
     "output_type": "execute_result"
    }
   ],
   "source": [
    "lr.fit(x_train,y_train)"
   ]
  },
  {
   "cell_type": "code",
   "execution_count": 49,
   "id": "397b50e2",
   "metadata": {},
   "outputs": [
    {
     "data": {
      "text/plain": [
       "42.14222170291085"
      ]
     },
     "execution_count": 49,
     "metadata": {},
     "output_type": "execute_result"
    }
   ],
   "source": [
    "c = lr.intercept_\n",
    "c"
   ]
  },
  {
   "cell_type": "code",
   "execution_count": 50,
   "id": "6498687f",
   "metadata": {},
   "outputs": [
    {
     "data": {
      "text/plain": [
       "array([-0.18038676, -0.30494729,  0.25688079,  0.38104858])"
      ]
     },
     "execution_count": 50,
     "metadata": {},
     "output_type": "execute_result"
    }
   ],
   "source": [
    "m = lr.coef_\n",
    "m"
   ]
  },
  {
   "cell_type": "code",
   "execution_count": 51,
   "id": "3527754f",
   "metadata": {},
   "outputs": [
    {
     "data": {
      "text/plain": [
       "array([27.08726865, 48.30022289, 42.80577494, 33.07539475, 38.45870715,\n",
       "       36.63299707, 37.7801379 , 39.76368111, 46.51093591, 27.7967972 ,\n",
       "       39.62796502, 41.5839201 , 37.69884961, 36.42633765, 24.40487768,\n",
       "       42.86611528, 36.92563556, 24.53708319, 42.06986451, 29.90749774,\n",
       "       37.70285919, 35.77762372, 29.6412837 , 33.73354154, 39.44883462,\n",
       "       37.72695725, 41.10567827, 43.88591903, 10.80322084, 41.67582336,\n",
       "       42.72588371, 25.85339104, 40.9556937 , 33.72524979, 38.26992047,\n",
       "       21.66716858, 45.85066054, 38.17269705, 34.52768651, 35.11146616,\n",
       "       35.63912975, 36.04079951, 39.22687376, 24.6981143 , 39.33712073,\n",
       "       37.93884241, 40.53534773, 17.27201304, 23.83168537, 26.40202374,\n",
       "       35.89578678, 36.24846783])"
      ]
     },
     "execution_count": 51,
     "metadata": {},
     "output_type": "execute_result"
    }
   ],
   "source": [
    "y_pred_train = lr.predict(x_train)\n",
    "y_pred_train"
   ]
  },
  {
   "cell_type": "code",
   "execution_count": 52,
   "id": "d413b91c",
   "metadata": {},
   "outputs": [
    {
     "data": {
      "image/png": "[encoded data removed]",
      "text/plain": [
       "<Figure size 640x480 with 1 Axes>"
      ]
     },
     "metadata": {},
     "output_type": "display_data"
    }
   ],
   "source": [
    "import matplotlib.pyplot as plt\n",
    "plt.scatter(y_train,y_pred_train)\n",
    "plt.xlabel(\"Actual MPG\")\n",
    "plt.ylabel(\"Predicted MPG\")\n",
    "plt.show()"
   ]
  },
  {
   "cell_type": "code",
   "execution_count": 53,
   "id": "7e7e8466",
   "metadata": {},
   "outputs": [],
   "source": [
    "from sklearn.metrics import r2_score"
   ]
  },
  {
   "cell_type": "code",
   "execution_count": 54,
   "id": "b1bdeb70",
   "metadata": {},
   "outputs": [
    {
     "data": {
      "text/plain": [
       "0.7782304683027683"
      ]
     },
     "execution_count": 54,
     "metadata": {},
     "output_type": "execute_result"
    }
   ],
   "source": [
    "r2_score(y_train,y_pred_train)"
   ]
  },
  {
   "cell_type": "code",
   "execution_count": 55,
   "id": "81ceb1c5",
   "metadata": {},
   "outputs": [],
   "source": [
    "y_pred_test = lr.predict(x_test)"
   ]
  },
  {
   "cell_type": "code",
   "execution_count": 56,
   "id": "f801a4ad",
   "metadata": {},
   "outputs": [
    {
     "data": {
      "image/png": "[encoded data removed]",
      "text/plain": [
       "<Figure size 640x480 with 1 Axes>"
      ]
     },
     "metadata": {},
     "output_type": "display_data"
    }
   ],
   "source": [
    "import matplotlib.pyplot as plt\n",
    "plt.scatter(y_test,y_pred_test)\n",
    "plt.xlabel(\"Actual MPG\")\n",
    "plt.ylabel(\"Predicted MPG\")\n",
    "plt.show()"
   ]
  },
  {
   "cell_type": "code",
   "execution_count": 57,
   "id": "e7be413f",
   "metadata": {},
   "outputs": [
    {
     "data": {
      "text/plain": [
       "0.7317591107838216"
      ]
     },
     "execution_count": 57,
     "metadata": {},
     "output_type": "execute_result"
    }
   ],
   "source": [
    "r2_score(y_test,y_pred_test)"
   ]
  }
 ],
 "metadata": {
  "kernelspec": {
   "display_name": "Python 3 (ipykernel)",
   "language": "python",
   "name": "python3"
  },
  "language_info": {
   "codemirror_mode": {
    "name": "ipython",
    "version": 3
   },
   "file_extension": ".py",
   "mimetype": "text/x-python",
   "name": "python",
   "nbconvert_exporter": "python",
   "pygments_lexer": "ipython3",
   "version": "3.9.13"
  }
 },
 "nbformat": 4,
 "nbformat_minor": 5
}
